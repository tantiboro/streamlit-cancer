{
 "cells": [
  {
   "cell_type": "code",
   "execution_count": 6,
   "metadata": {},
   "outputs": [
    {
     "ename": "SyntaxError",
     "evalue": "expected 'else' after 'if' expression (794182838.py, line 16)",
     "output_type": "error",
     "traceback": [
      "\u001b[0;36m  Cell \u001b[0;32mIn[6], line 16\u001b[0;36m\u001b[0m\n\u001b[0;31m    marker=dict(color=df['diagnosis'].apply(lambda x:1 if x=='M else 0'),\u001b[0m\n\u001b[0m                                                     ^\u001b[0m\n\u001b[0;31mSyntaxError\u001b[0m\u001b[0;31m:\u001b[0m expected 'else' after 'if' expression\n"
     ]
    }
   ],
   "source": [
    "import plotly.graph_objs as go\n",
    "import pandas as pd\n",
    "\n",
    "df = pd.read_csv('data/data.csv')\n",
    "textd = ['Benign' if cl==\"B\" else 'Malign' for cl in df['diagnosis']]\n",
    "\n",
    "fig = go.Figure(data=go.Splom(\n",
    "                  dimensions=[dict(label='Pregnancies', values=df['radius_mean']),\n",
    "                              dict(label='Glucose', values=df['radius_mean']),\n",
    "                              dict(label='BloodPressure', values=df['texture_mean']),\n",
    "                              dict(label='SkinThickness', values=df['texture_mean']),\n",
    "                              dict(label='Insulin', values=df['symmetry_mean']),\n",
    "                              dict(label='BMI', values=df['symmetry_mean']),\n",
    "                              dict(label='DiabPedigreeFun', values=df['smoothness_se']),\n",
    "                              dict(label='Age', values=df['smoothness_se'])],\n",
    "                  marker=dict(color=df['diagnosis'].apply(lambda x:1 if x=='M'else 0),\n",
    "                              size=5,\n",
    "                              colorscale='Bluered',\n",
    "                              line=dict(width=0.5,\n",
    "                                        color='rgb(230,230,230)')),\n",
    "                  text=textd,\n",
    "                  diagonal=dict(visible=False)))\n",
    "\n",
    "title = \"Scatterplot Matrix (SPLOM) for Diabetes Dataset<br>Data source:\"+\\\n",
    "        \" <a href='https://www.kaggle.com/uciml/pima-indians-diabetes-database/data'>[1]</a>\"\n",
    "fig.update_layout(title=title,\n",
    "                  dragmode='select',\n",
    "                  width=1000,\n",
    "                  height=1000,\n",
    "                  hovermode='closest')\n",
    "\n",
    "fig.show()"
   ]
  }
 ],
 "metadata": {
  "kernelspec": {
   "display_name": "ds_env",
   "language": "python",
   "name": "python3"
  },
  "language_info": {
   "codemirror_mode": {
    "name": "ipython",
    "version": 3
   },
   "file_extension": ".py",
   "mimetype": "text/x-python",
   "name": "python",
   "nbconvert_exporter": "python",
   "pygments_lexer": "ipython3",
   "version": "3.10.14"
  }
 },
 "nbformat": 4,
 "nbformat_minor": 2
}
